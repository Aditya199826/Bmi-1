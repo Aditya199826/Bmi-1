{
  "cells": [
    {
      "cell_type": "markdown",
      "metadata": {
        "id": "view-in-github",
        "colab_type": "text"
      },
      "source": [
        "<a href=\"https://colab.research.google.com/github/Aditya199826/Bmi-1/blob/main/Untitled.ipynb\" target=\"_parent\"><img src=\"https://colab.research.google.com/assets/colab-badge.svg\" alt=\"Open In Colab\"/></a>"
      ]
    },
    {
      "cell_type": "code",
      "execution_count": null,
      "id": "b171f6b3-3185-439b-8f83-99247ff278dc",
      "metadata": {
        "id": "b171f6b3-3185-439b-8f83-99247ff278dc"
      },
      "outputs": [],
      "source": []
    },
    {
      "cell_type": "markdown",
      "id": "d4f3b338-1c55-430b-8392-538b69a9a95a",
      "metadata": {
        "id": "d4f3b338-1c55-430b-8392-538b69a9a95a"
      },
      "source": [
        "# User\n",
        "write a code to create a image"
      ]
    },
    {
      "cell_type": "markdown",
      "id": "cbb46737-8236-4546-a3db-398712e24dd2",
      "metadata": {
        "id": "cbb46737-8236-4546-a3db-398712e24dd2"
      },
      "source": [
        "# Assistant\n",
        "# Creating an Image with Python\n",
        "\n",
        "To create an image in Python, I'll use the Pillow library (PIL), which is the most common package for image manipulation in Python.\n",
        "\n",
        "Here's a simple code to create a colorful gradient image:\n"
      ]
    },
    {
      "cell_type": "code",
      "execution_count": null,
      "id": "e002abc6-9df6-487b-b799-f4d973cbee38",
      "metadata": {
        "id": "e002abc6-9df6-487b-b799-f4d973cbee38"
      },
      "outputs": [],
      "source": [
        "from PIL import Image, ImageDraw\n",
        "import numpy as np\n",
        "\n",
        "# Set image dimensions\n",
        "width, height = 800, 600\n",
        "\n",
        "# Create a new RGB image with white background\n",
        "image = Image.new('RGB', (width, height), (255, 255, 255))\n",
        "draw = ImageDraw.Draw(image)\n",
        "\n",
        "# Create a colorful gradient\n",
        "for x in range(width):\n",
        "    for y in range(height):\n",
        "        # Create a gradient based on position\n",
        "        r = int(255 * x / width)\n",
        "        g = int(255 * y / height)\n",
        "        b = int(255 * (x + y) / (width + height))\n",
        "\n",
        "        # Draw a pixel at position (x, y) with color (r, g, b)\n",
        "        draw.point((x, y), fill=(r, g, b))\n",
        "\n",
        "# Save the image\n",
        "image.save('gradient_image.png')\n",
        "\n",
        "# Display the image (if in a Jupyter notebook)\n",
        "display(image)\n",
        "\n",
        "print(\"Image created and saved as 'gradient_image.png'\")"
      ]
    },
    {
      "cell_type": "markdown",
      "id": "a0b4b00d-2108-4cb3-9801-afbed82688b7",
      "metadata": {
        "id": "a0b4b00d-2108-4cb3-9801-afbed82688b7"
      },
      "source": [
        "\n",
        "This code creates a colorful gradient image by:\n",
        "1. Setting up the dimensions of the image\n",
        "2. Creating a blank white image\n",
        "3. Drawing a gradient pattern by calculating RGB values based on pixel position\n",
        "4. Saving the image as 'gradient_image.png'\n",
        "\n",
        "If you're looking for different types of images or more advanced image creation, you might also consider these Python packages:\n",
        "- Matplotlib - for creating plots and charts\n",
        "- OpenCV (cv2) - for more advanced image processing\n",
        "- Seaborn - for statistical visualizations\n",
        "- Plotly - for interactive visualizations"
      ]
    }
  ],
  "metadata": {
    "kernelspec": {
      "display_name": "anaconda-2024.02-py310",
      "language": "python",
      "name": "conda-env-anaconda-2024.02-py310-py"
    },
    "language_info": {
      "codemirror_mode": {
        "name": "ipython",
        "version": 3
      },
      "file_extension": ".py",
      "mimetype": "text/x-python",
      "name": "python",
      "nbconvert_exporter": "python",
      "pygments_lexer": "ipython3",
      "version": "3.10.14"
    },
    "colab": {
      "name": "Untitled",
      "provenance": [],
      "include_colab_link": true
    }
  },
  "nbformat": 4,
  "nbformat_minor": 5
}